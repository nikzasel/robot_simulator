{
 "nbformat": 4,
 "nbformat_minor": 2,
 "metadata": {
  "language_info": {
   "name": "python",
   "codemirror_mode": {
    "name": "ipython",
    "version": 3
   },
   "version": "3.8.1-final"
  },
  "orig_nbformat": 2,
  "file_extension": ".py",
  "mimetype": "text/x-python",
  "name": "python",
  "npconvert_exporter": "python",
  "pygments_lexer": "ipython3",
  "version": 3,
  "kernelspec": {
   "name": "python3",
   "display_name": "Python 3"
  }
 },
 "cells": [
  {
   "cell_type": "code",
   "execution_count": 29,
   "metadata": {},
   "outputs": [],
   "source": [
    "import numpy as np\n",
    "import pandas as pd"
   ]
  },
  {
   "cell_type": "code",
   "execution_count": 30,
   "metadata": {},
   "outputs": [],
   "source": [
    "pd.set_option('display.max_columns', 100)\n",
    "pd.set_option('display.max_rows', 100)"
   ]
  },
  {
   "cell_type": "code",
   "execution_count": 31,
   "metadata": {},
   "outputs": [
    {
     "output_type": "execute_result",
     "data": {
      "text/plain": "     state  account length  area code phone number international plan  \\\n0       KS             128        415     382-4657                 no   \n1       OH             107        415     371-7191                 no   \n2       NJ             137        415     358-1921                 no   \n3       OH              84        408     375-9999                yes   \n4       OK              75        415     330-6626                yes   \n...    ...             ...        ...          ...                ...   \n3328    AZ             192        415     414-4276                 no   \n3329    WV              68        415     370-3271                 no   \n3330    RI              28        510     328-8230                 no   \n3331    CT             184        510     364-6381                yes   \n3332    TN              74        415     400-4344                 no   \n\n     voice mail plan  number vmail messages  total day minutes  \\\n0                yes                     25              265.1   \n1                yes                     26              161.6   \n2                 no                      0              243.4   \n3                 no                      0              299.4   \n4                 no                      0              166.7   \n...              ...                    ...                ...   \n3328             yes                     36              156.2   \n3329              no                      0              231.1   \n3330              no                      0              180.8   \n3331              no                      0              213.8   \n3332             yes                     25              234.4   \n\n      total day calls  total day charge  total eve minutes  total eve calls  \\\n0                 110             45.07              197.4               99   \n1                 123             27.47              195.5              103   \n2                 114             41.38              121.2              110   \n3                  71             50.90               61.9               88   \n4                 113             28.34              148.3              122   \n...               ...               ...                ...              ...   \n3328               77             26.55              215.5              126   \n3329               57             39.29              153.4               55   \n3330              109             30.74              288.8               58   \n3331              105             36.35              159.6               84   \n3332              113             39.85              265.9               82   \n\n      total eve charge  total night minutes  total night calls  \\\n0                16.78                244.7                 91   \n1                16.62                254.4                103   \n2                10.30                162.6                104   \n3                 5.26                196.9                 89   \n4                12.61                186.9                121   \n...                ...                  ...                ...   \n3328             18.32                279.1                 83   \n3329             13.04                191.3                123   \n3330             24.55                191.9                 91   \n3331             13.57                139.2                137   \n3332             22.60                241.4                 77   \n\n      total night charge  total intl minutes  total intl calls  \\\n0                  11.01                10.0                 3   \n1                  11.45                13.7                 3   \n2                   7.32                12.2                 5   \n3                   8.86                 6.6                 7   \n4                   8.41                10.1                 3   \n...                  ...                 ...               ...   \n3328               12.56                 9.9                 6   \n3329                8.61                 9.6                 4   \n3330                8.64                14.1                 6   \n3331                6.26                 5.0                10   \n3332               10.86                13.7                 4   \n\n      total intl charge  customer service calls  churn  \n0                  2.70                       1  False  \n1                  3.70                       1  False  \n2                  3.29                       0  False  \n3                  1.78                       2  False  \n4                  2.73                       3  False  \n...                 ...                     ...    ...  \n3328               2.67                       2  False  \n3329               2.59                       3  False  \n3330               3.81                       2  False  \n3331               1.35                       2  False  \n3332               3.70                       0  False  \n\n[3333 rows x 21 columns]",
      "text/html": "<div>\n<style scoped>\n    .dataframe tbody tr th:only-of-type {\n        vertical-align: middle;\n    }\n\n    .dataframe tbody tr th {\n        vertical-align: top;\n    }\n\n    .dataframe thead th {\n        text-align: right;\n    }\n</style>\n<table border=\"1\" class=\"dataframe\">\n  <thead>\n    <tr style=\"text-align: right;\">\n      <th></th>\n      <th>state</th>\n      <th>account length</th>\n      <th>area code</th>\n      <th>phone number</th>\n      <th>international plan</th>\n      <th>voice mail plan</th>\n      <th>number vmail messages</th>\n      <th>total day minutes</th>\n      <th>total day calls</th>\n      <th>total day charge</th>\n      <th>total eve minutes</th>\n      <th>total eve calls</th>\n      <th>total eve charge</th>\n      <th>total night minutes</th>\n      <th>total night calls</th>\n      <th>total night charge</th>\n      <th>total intl minutes</th>\n      <th>total intl calls</th>\n      <th>total intl charge</th>\n      <th>customer service calls</th>\n      <th>churn</th>\n    </tr>\n  </thead>\n  <tbody>\n    <tr>\n      <th>0</th>\n      <td>KS</td>\n      <td>128</td>\n      <td>415</td>\n      <td>382-4657</td>\n      <td>no</td>\n      <td>yes</td>\n      <td>25</td>\n      <td>265.1</td>\n      <td>110</td>\n      <td>45.07</td>\n      <td>197.4</td>\n      <td>99</td>\n      <td>16.78</td>\n      <td>244.7</td>\n      <td>91</td>\n      <td>11.01</td>\n      <td>10.0</td>\n      <td>3</td>\n      <td>2.70</td>\n      <td>1</td>\n      <td>False</td>\n    </tr>\n    <tr>\n      <th>1</th>\n      <td>OH</td>\n      <td>107</td>\n      <td>415</td>\n      <td>371-7191</td>\n      <td>no</td>\n      <td>yes</td>\n      <td>26</td>\n      <td>161.6</td>\n      <td>123</td>\n      <td>27.47</td>\n      <td>195.5</td>\n      <td>103</td>\n      <td>16.62</td>\n      <td>254.4</td>\n      <td>103</td>\n      <td>11.45</td>\n      <td>13.7</td>\n      <td>3</td>\n      <td>3.70</td>\n      <td>1</td>\n      <td>False</td>\n    </tr>\n    <tr>\n      <th>2</th>\n      <td>NJ</td>\n      <td>137</td>\n      <td>415</td>\n      <td>358-1921</td>\n      <td>no</td>\n      <td>no</td>\n      <td>0</td>\n      <td>243.4</td>\n      <td>114</td>\n      <td>41.38</td>\n      <td>121.2</td>\n      <td>110</td>\n      <td>10.30</td>\n      <td>162.6</td>\n      <td>104</td>\n      <td>7.32</td>\n      <td>12.2</td>\n      <td>5</td>\n      <td>3.29</td>\n      <td>0</td>\n      <td>False</td>\n    </tr>\n    <tr>\n      <th>3</th>\n      <td>OH</td>\n      <td>84</td>\n      <td>408</td>\n      <td>375-9999</td>\n      <td>yes</td>\n      <td>no</td>\n      <td>0</td>\n      <td>299.4</td>\n      <td>71</td>\n      <td>50.90</td>\n      <td>61.9</td>\n      <td>88</td>\n      <td>5.26</td>\n      <td>196.9</td>\n      <td>89</td>\n      <td>8.86</td>\n      <td>6.6</td>\n      <td>7</td>\n      <td>1.78</td>\n      <td>2</td>\n      <td>False</td>\n    </tr>\n    <tr>\n      <th>4</th>\n      <td>OK</td>\n      <td>75</td>\n      <td>415</td>\n      <td>330-6626</td>\n      <td>yes</td>\n      <td>no</td>\n      <td>0</td>\n      <td>166.7</td>\n      <td>113</td>\n      <td>28.34</td>\n      <td>148.3</td>\n      <td>122</td>\n      <td>12.61</td>\n      <td>186.9</td>\n      <td>121</td>\n      <td>8.41</td>\n      <td>10.1</td>\n      <td>3</td>\n      <td>2.73</td>\n      <td>3</td>\n      <td>False</td>\n    </tr>\n    <tr>\n      <th>...</th>\n      <td>...</td>\n      <td>...</td>\n      <td>...</td>\n      <td>...</td>\n      <td>...</td>\n      <td>...</td>\n      <td>...</td>\n      <td>...</td>\n      <td>...</td>\n      <td>...</td>\n      <td>...</td>\n      <td>...</td>\n      <td>...</td>\n      <td>...</td>\n      <td>...</td>\n      <td>...</td>\n      <td>...</td>\n      <td>...</td>\n      <td>...</td>\n      <td>...</td>\n      <td>...</td>\n    </tr>\n    <tr>\n      <th>3328</th>\n      <td>AZ</td>\n      <td>192</td>\n      <td>415</td>\n      <td>414-4276</td>\n      <td>no</td>\n      <td>yes</td>\n      <td>36</td>\n      <td>156.2</td>\n      <td>77</td>\n      <td>26.55</td>\n      <td>215.5</td>\n      <td>126</td>\n      <td>18.32</td>\n      <td>279.1</td>\n      <td>83</td>\n      <td>12.56</td>\n      <td>9.9</td>\n      <td>6</td>\n      <td>2.67</td>\n      <td>2</td>\n      <td>False</td>\n    </tr>\n    <tr>\n      <th>3329</th>\n      <td>WV</td>\n      <td>68</td>\n      <td>415</td>\n      <td>370-3271</td>\n      <td>no</td>\n      <td>no</td>\n      <td>0</td>\n      <td>231.1</td>\n      <td>57</td>\n      <td>39.29</td>\n      <td>153.4</td>\n      <td>55</td>\n      <td>13.04</td>\n      <td>191.3</td>\n      <td>123</td>\n      <td>8.61</td>\n      <td>9.6</td>\n      <td>4</td>\n      <td>2.59</td>\n      <td>3</td>\n      <td>False</td>\n    </tr>\n    <tr>\n      <th>3330</th>\n      <td>RI</td>\n      <td>28</td>\n      <td>510</td>\n      <td>328-8230</td>\n      <td>no</td>\n      <td>no</td>\n      <td>0</td>\n      <td>180.8</td>\n      <td>109</td>\n      <td>30.74</td>\n      <td>288.8</td>\n      <td>58</td>\n      <td>24.55</td>\n      <td>191.9</td>\n      <td>91</td>\n      <td>8.64</td>\n      <td>14.1</td>\n      <td>6</td>\n      <td>3.81</td>\n      <td>2</td>\n      <td>False</td>\n    </tr>\n    <tr>\n      <th>3331</th>\n      <td>CT</td>\n      <td>184</td>\n      <td>510</td>\n      <td>364-6381</td>\n      <td>yes</td>\n      <td>no</td>\n      <td>0</td>\n      <td>213.8</td>\n      <td>105</td>\n      <td>36.35</td>\n      <td>159.6</td>\n      <td>84</td>\n      <td>13.57</td>\n      <td>139.2</td>\n      <td>137</td>\n      <td>6.26</td>\n      <td>5.0</td>\n      <td>10</td>\n      <td>1.35</td>\n      <td>2</td>\n      <td>False</td>\n    </tr>\n    <tr>\n      <th>3332</th>\n      <td>TN</td>\n      <td>74</td>\n      <td>415</td>\n      <td>400-4344</td>\n      <td>no</td>\n      <td>yes</td>\n      <td>25</td>\n      <td>234.4</td>\n      <td>113</td>\n      <td>39.85</td>\n      <td>265.9</td>\n      <td>82</td>\n      <td>22.60</td>\n      <td>241.4</td>\n      <td>77</td>\n      <td>10.86</td>\n      <td>13.7</td>\n      <td>4</td>\n      <td>3.70</td>\n      <td>0</td>\n      <td>False</td>\n    </tr>\n  </tbody>\n</table>\n<p>3333 rows × 21 columns</p>\n</div>"
     },
     "metadata": {},
     "execution_count": 31
    }
   ],
   "source": [
    "data = pd.read_csv('../../data_science/Dataset_churn.csv')\n",
    "data"
   ]
  },
  {
   "cell_type": "code",
   "execution_count": null,
   "metadata": {},
   "outputs": [],
   "source": []
  },
  {
   "cell_type": "code",
   "execution_count": 32,
   "metadata": {},
   "outputs": [
    {
     "output_type": "execute_result",
     "data": {
      "text/plain": "     state  account length  area code phone number international plan  \\\n0       KS             128        415     382-4657                 no   \n1       OH             107        415     371-7191                 no   \n2       NJ             137        415     358-1921                 no   \n3       OH              84        408     375-9999                yes   \n4       OK              75        415     330-6626                yes   \n...    ...             ...        ...          ...                ...   \n3328    AZ             192        415     414-4276                 no   \n3329    WV              68        415     370-3271                 no   \n3330    RI              28        510     328-8230                 no   \n3331    CT             184        510     364-6381                yes   \n3332    TN              74        415     400-4344                 no   \n\n     voice mail plan  number vmail messages  total day minutes  \\\n0                yes                     25              265.1   \n1                yes                     26              161.6   \n2                 no                      0              243.4   \n3                 no                      0              299.4   \n4                 no                      0              166.7   \n...              ...                    ...                ...   \n3328             yes                     36              156.2   \n3329              no                      0              231.1   \n3330              no                      0              180.8   \n3331              no                      0              213.8   \n3332             yes                     25              234.4   \n\n      total day calls  total day charge  total eve minutes  total eve calls  \\\n0                 110             45.07              197.4               99   \n1                 123             27.47              195.5              103   \n2                 114             41.38              121.2              110   \n3                  71             50.90               61.9               88   \n4                 113             28.34              148.3              122   \n...               ...               ...                ...              ...   \n3328               77             26.55              215.5              126   \n3329               57             39.29              153.4               55   \n3330              109             30.74              288.8               58   \n3331              105             36.35              159.6               84   \n3332              113             39.85              265.9               82   \n\n      total eve charge  total night minutes  total night calls  \\\n0                16.78                244.7                 91   \n1                16.62                254.4                103   \n2                10.30                162.6                104   \n3                 5.26                196.9                 89   \n4                12.61                186.9                121   \n...                ...                  ...                ...   \n3328             18.32                279.1                 83   \n3329             13.04                191.3                123   \n3330             24.55                191.9                 91   \n3331             13.57                139.2                137   \n3332             22.60                241.4                 77   \n\n      total night charge  total intl minutes  total intl calls  \\\n0                  11.01                10.0                 3   \n1                  11.45                13.7                 3   \n2                   7.32                12.2                 5   \n3                   8.86                 6.6                 7   \n4                   8.41                10.1                 3   \n...                  ...                 ...               ...   \n3328               12.56                 9.9                 6   \n3329                8.61                 9.6                 4   \n3330                8.64                14.1                 6   \n3331                6.26                 5.0                10   \n3332               10.86                13.7                 4   \n\n      total intl charge  customer service calls  churn  \n0                  2.70                       1      0  \n1                  3.70                       1      0  \n2                  3.29                       0      0  \n3                  1.78                       2      0  \n4                  2.73                       3      0  \n...                 ...                     ...    ...  \n3328               2.67                       2      0  \n3329               2.59                       3      0  \n3330               3.81                       2      0  \n3331               1.35                       2      0  \n3332               3.70                       0      0  \n\n[3333 rows x 21 columns]",
      "text/html": "<div>\n<style scoped>\n    .dataframe tbody tr th:only-of-type {\n        vertical-align: middle;\n    }\n\n    .dataframe tbody tr th {\n        vertical-align: top;\n    }\n\n    .dataframe thead th {\n        text-align: right;\n    }\n</style>\n<table border=\"1\" class=\"dataframe\">\n  <thead>\n    <tr style=\"text-align: right;\">\n      <th></th>\n      <th>state</th>\n      <th>account length</th>\n      <th>area code</th>\n      <th>phone number</th>\n      <th>international plan</th>\n      <th>voice mail plan</th>\n      <th>number vmail messages</th>\n      <th>total day minutes</th>\n      <th>total day calls</th>\n      <th>total day charge</th>\n      <th>total eve minutes</th>\n      <th>total eve calls</th>\n      <th>total eve charge</th>\n      <th>total night minutes</th>\n      <th>total night calls</th>\n      <th>total night charge</th>\n      <th>total intl minutes</th>\n      <th>total intl calls</th>\n      <th>total intl charge</th>\n      <th>customer service calls</th>\n      <th>churn</th>\n    </tr>\n  </thead>\n  <tbody>\n    <tr>\n      <th>0</th>\n      <td>KS</td>\n      <td>128</td>\n      <td>415</td>\n      <td>382-4657</td>\n      <td>no</td>\n      <td>yes</td>\n      <td>25</td>\n      <td>265.1</td>\n      <td>110</td>\n      <td>45.07</td>\n      <td>197.4</td>\n      <td>99</td>\n      <td>16.78</td>\n      <td>244.7</td>\n      <td>91</td>\n      <td>11.01</td>\n      <td>10.0</td>\n      <td>3</td>\n      <td>2.70</td>\n      <td>1</td>\n      <td>0</td>\n    </tr>\n    <tr>\n      <th>1</th>\n      <td>OH</td>\n      <td>107</td>\n      <td>415</td>\n      <td>371-7191</td>\n      <td>no</td>\n      <td>yes</td>\n      <td>26</td>\n      <td>161.6</td>\n      <td>123</td>\n      <td>27.47</td>\n      <td>195.5</td>\n      <td>103</td>\n      <td>16.62</td>\n      <td>254.4</td>\n      <td>103</td>\n      <td>11.45</td>\n      <td>13.7</td>\n      <td>3</td>\n      <td>3.70</td>\n      <td>1</td>\n      <td>0</td>\n    </tr>\n    <tr>\n      <th>2</th>\n      <td>NJ</td>\n      <td>137</td>\n      <td>415</td>\n      <td>358-1921</td>\n      <td>no</td>\n      <td>no</td>\n      <td>0</td>\n      <td>243.4</td>\n      <td>114</td>\n      <td>41.38</td>\n      <td>121.2</td>\n      <td>110</td>\n      <td>10.30</td>\n      <td>162.6</td>\n      <td>104</td>\n      <td>7.32</td>\n      <td>12.2</td>\n      <td>5</td>\n      <td>3.29</td>\n      <td>0</td>\n      <td>0</td>\n    </tr>\n    <tr>\n      <th>3</th>\n      <td>OH</td>\n      <td>84</td>\n      <td>408</td>\n      <td>375-9999</td>\n      <td>yes</td>\n      <td>no</td>\n      <td>0</td>\n      <td>299.4</td>\n      <td>71</td>\n      <td>50.90</td>\n      <td>61.9</td>\n      <td>88</td>\n      <td>5.26</td>\n      <td>196.9</td>\n      <td>89</td>\n      <td>8.86</td>\n      <td>6.6</td>\n      <td>7</td>\n      <td>1.78</td>\n      <td>2</td>\n      <td>0</td>\n    </tr>\n    <tr>\n      <th>4</th>\n      <td>OK</td>\n      <td>75</td>\n      <td>415</td>\n      <td>330-6626</td>\n      <td>yes</td>\n      <td>no</td>\n      <td>0</td>\n      <td>166.7</td>\n      <td>113</td>\n      <td>28.34</td>\n      <td>148.3</td>\n      <td>122</td>\n      <td>12.61</td>\n      <td>186.9</td>\n      <td>121</td>\n      <td>8.41</td>\n      <td>10.1</td>\n      <td>3</td>\n      <td>2.73</td>\n      <td>3</td>\n      <td>0</td>\n    </tr>\n    <tr>\n      <th>...</th>\n      <td>...</td>\n      <td>...</td>\n      <td>...</td>\n      <td>...</td>\n      <td>...</td>\n      <td>...</td>\n      <td>...</td>\n      <td>...</td>\n      <td>...</td>\n      <td>...</td>\n      <td>...</td>\n      <td>...</td>\n      <td>...</td>\n      <td>...</td>\n      <td>...</td>\n      <td>...</td>\n      <td>...</td>\n      <td>...</td>\n      <td>...</td>\n      <td>...</td>\n      <td>...</td>\n    </tr>\n    <tr>\n      <th>3328</th>\n      <td>AZ</td>\n      <td>192</td>\n      <td>415</td>\n      <td>414-4276</td>\n      <td>no</td>\n      <td>yes</td>\n      <td>36</td>\n      <td>156.2</td>\n      <td>77</td>\n      <td>26.55</td>\n      <td>215.5</td>\n      <td>126</td>\n      <td>18.32</td>\n      <td>279.1</td>\n      <td>83</td>\n      <td>12.56</td>\n      <td>9.9</td>\n      <td>6</td>\n      <td>2.67</td>\n      <td>2</td>\n      <td>0</td>\n    </tr>\n    <tr>\n      <th>3329</th>\n      <td>WV</td>\n      <td>68</td>\n      <td>415</td>\n      <td>370-3271</td>\n      <td>no</td>\n      <td>no</td>\n      <td>0</td>\n      <td>231.1</td>\n      <td>57</td>\n      <td>39.29</td>\n      <td>153.4</td>\n      <td>55</td>\n      <td>13.04</td>\n      <td>191.3</td>\n      <td>123</td>\n      <td>8.61</td>\n      <td>9.6</td>\n      <td>4</td>\n      <td>2.59</td>\n      <td>3</td>\n      <td>0</td>\n    </tr>\n    <tr>\n      <th>3330</th>\n      <td>RI</td>\n      <td>28</td>\n      <td>510</td>\n      <td>328-8230</td>\n      <td>no</td>\n      <td>no</td>\n      <td>0</td>\n      <td>180.8</td>\n      <td>109</td>\n      <td>30.74</td>\n      <td>288.8</td>\n      <td>58</td>\n      <td>24.55</td>\n      <td>191.9</td>\n      <td>91</td>\n      <td>8.64</td>\n      <td>14.1</td>\n      <td>6</td>\n      <td>3.81</td>\n      <td>2</td>\n      <td>0</td>\n    </tr>\n    <tr>\n      <th>3331</th>\n      <td>CT</td>\n      <td>184</td>\n      <td>510</td>\n      <td>364-6381</td>\n      <td>yes</td>\n      <td>no</td>\n      <td>0</td>\n      <td>213.8</td>\n      <td>105</td>\n      <td>36.35</td>\n      <td>159.6</td>\n      <td>84</td>\n      <td>13.57</td>\n      <td>139.2</td>\n      <td>137</td>\n      <td>6.26</td>\n      <td>5.0</td>\n      <td>10</td>\n      <td>1.35</td>\n      <td>2</td>\n      <td>0</td>\n    </tr>\n    <tr>\n      <th>3332</th>\n      <td>TN</td>\n      <td>74</td>\n      <td>415</td>\n      <td>400-4344</td>\n      <td>no</td>\n      <td>yes</td>\n      <td>25</td>\n      <td>234.4</td>\n      <td>113</td>\n      <td>39.85</td>\n      <td>265.9</td>\n      <td>82</td>\n      <td>22.60</td>\n      <td>241.4</td>\n      <td>77</td>\n      <td>10.86</td>\n      <td>13.7</td>\n      <td>4</td>\n      <td>3.70</td>\n      <td>0</td>\n      <td>0</td>\n    </tr>\n  </tbody>\n</table>\n<p>3333 rows × 21 columns</p>\n</div>"
     },
     "metadata": {},
     "execution_count": 32
    }
   ],
   "source": [
    "data['churn'] = data['churn'].astype('int64')\n",
    "data"
   ]
  },
  {
   "cell_type": "code",
   "execution_count": 33,
   "metadata": {},
   "outputs": [
    {
     "output_type": "stream",
     "name": "stdout",
     "text": "<class 'pandas.core.frame.DataFrame'>\nRangeIndex: 3333 entries, 0 to 3332\nData columns (total 21 columns):\n #   Column                  Non-Null Count  Dtype  \n---  ------                  --------------  -----  \n 0   state                   3333 non-null   object \n 1   account length          3333 non-null   int64  \n 2   area code               3333 non-null   int64  \n 3   phone number            3333 non-null   object \n 4   international plan      3333 non-null   object \n 5   voice mail plan         3333 non-null   object \n 6   number vmail messages   3333 non-null   int64  \n 7   total day minutes       3333 non-null   float64\n 8   total day calls         3333 non-null   int64  \n 9   total day charge        3333 non-null   float64\n 10  total eve minutes       3333 non-null   float64\n 11  total eve calls         3333 non-null   int64  \n 12  total eve charge        3333 non-null   float64\n 13  total night minutes     3333 non-null   float64\n 14  total night calls       3333 non-null   int64  \n 15  total night charge      3333 non-null   float64\n 16  total intl minutes      3333 non-null   float64\n 17  total intl calls        3333 non-null   int64  \n 18  total intl charge       3333 non-null   float64\n 19  customer service calls  3333 non-null   int64  \n 20  churn                   3333 non-null   int64  \ndtypes: float64(8), int64(9), object(4)\nmemory usage: 546.9+ KB\n"
    }
   ],
   "source": [
    "data.info()"
   ]
  },
  {
   "cell_type": "code",
   "execution_count": 34,
   "metadata": {},
   "outputs": [
    {
     "output_type": "execute_result",
     "data": {
      "text/plain": "       account length    area code  number vmail messages  total day minutes  \\\ncount     3333.000000  3333.000000            3333.000000        3333.000000   \nmean       101.064806   437.182418               8.099010         179.775098   \nstd         39.822106    42.371290              13.688365          54.467389   \nmin          1.000000   408.000000               0.000000           0.000000   \n25%         74.000000   408.000000               0.000000         143.700000   \n50%        101.000000   415.000000               0.000000         179.400000   \n75%        127.000000   510.000000              20.000000         216.400000   \nmax        243.000000   510.000000              51.000000         350.800000   \n\n       total day calls  total day charge  total eve minutes  total eve calls  \\\ncount      3333.000000       3333.000000        3333.000000      3333.000000   \nmean        100.435644         30.562307         200.980348       100.114311   \nstd          20.069084          9.259435          50.713844        19.922625   \nmin           0.000000          0.000000           0.000000         0.000000   \n25%          87.000000         24.430000         166.600000        87.000000   \n50%         101.000000         30.500000         201.400000       100.000000   \n75%         114.000000         36.790000         235.300000       114.000000   \nmax         165.000000         59.640000         363.700000       170.000000   \n\n       total eve charge  total night minutes  total night calls  \\\ncount       3333.000000          3333.000000        3333.000000   \nmean          17.083540           200.872037         100.107711   \nstd            4.310668            50.573847          19.568609   \nmin            0.000000            23.200000          33.000000   \n25%           14.160000           167.000000          87.000000   \n50%           17.120000           201.200000         100.000000   \n75%           20.000000           235.300000         113.000000   \nmax           30.910000           395.000000         175.000000   \n\n       total night charge  total intl minutes  total intl calls  \\\ncount         3333.000000         3333.000000       3333.000000   \nmean             9.039325           10.237294          4.479448   \nstd              2.275873            2.791840          2.461214   \nmin              1.040000            0.000000          0.000000   \n25%              7.520000            8.500000          3.000000   \n50%              9.050000           10.300000          4.000000   \n75%             10.590000           12.100000          6.000000   \nmax             17.770000           20.000000         20.000000   \n\n       total intl charge  customer service calls        churn  \ncount        3333.000000             3333.000000  3333.000000  \nmean            2.764581                1.562856     0.144914  \nstd             0.753773                1.315491     0.352067  \nmin             0.000000                0.000000     0.000000  \n25%             2.300000                1.000000     0.000000  \n50%             2.780000                1.000000     0.000000  \n75%             3.270000                2.000000     0.000000  \nmax             5.400000                9.000000     1.000000  ",
      "text/html": "<div>\n<style scoped>\n    .dataframe tbody tr th:only-of-type {\n        vertical-align: middle;\n    }\n\n    .dataframe tbody tr th {\n        vertical-align: top;\n    }\n\n    .dataframe thead th {\n        text-align: right;\n    }\n</style>\n<table border=\"1\" class=\"dataframe\">\n  <thead>\n    <tr style=\"text-align: right;\">\n      <th></th>\n      <th>account length</th>\n      <th>area code</th>\n      <th>number vmail messages</th>\n      <th>total day minutes</th>\n      <th>total day calls</th>\n      <th>total day charge</th>\n      <th>total eve minutes</th>\n      <th>total eve calls</th>\n      <th>total eve charge</th>\n      <th>total night minutes</th>\n      <th>total night calls</th>\n      <th>total night charge</th>\n      <th>total intl minutes</th>\n      <th>total intl calls</th>\n      <th>total intl charge</th>\n      <th>customer service calls</th>\n      <th>churn</th>\n    </tr>\n  </thead>\n  <tbody>\n    <tr>\n      <th>count</th>\n      <td>3333.000000</td>\n      <td>3333.000000</td>\n      <td>3333.000000</td>\n      <td>3333.000000</td>\n      <td>3333.000000</td>\n      <td>3333.000000</td>\n      <td>3333.000000</td>\n      <td>3333.000000</td>\n      <td>3333.000000</td>\n      <td>3333.000000</td>\n      <td>3333.000000</td>\n      <td>3333.000000</td>\n      <td>3333.000000</td>\n      <td>3333.000000</td>\n      <td>3333.000000</td>\n      <td>3333.000000</td>\n      <td>3333.000000</td>\n    </tr>\n    <tr>\n      <th>mean</th>\n      <td>101.064806</td>\n      <td>437.182418</td>\n      <td>8.099010</td>\n      <td>179.775098</td>\n      <td>100.435644</td>\n      <td>30.562307</td>\n      <td>200.980348</td>\n      <td>100.114311</td>\n      <td>17.083540</td>\n      <td>200.872037</td>\n      <td>100.107711</td>\n      <td>9.039325</td>\n      <td>10.237294</td>\n      <td>4.479448</td>\n      <td>2.764581</td>\n      <td>1.562856</td>\n      <td>0.144914</td>\n    </tr>\n    <tr>\n      <th>std</th>\n      <td>39.822106</td>\n      <td>42.371290</td>\n      <td>13.688365</td>\n      <td>54.467389</td>\n      <td>20.069084</td>\n      <td>9.259435</td>\n      <td>50.713844</td>\n      <td>19.922625</td>\n      <td>4.310668</td>\n      <td>50.573847</td>\n      <td>19.568609</td>\n      <td>2.275873</td>\n      <td>2.791840</td>\n      <td>2.461214</td>\n      <td>0.753773</td>\n      <td>1.315491</td>\n      <td>0.352067</td>\n    </tr>\n    <tr>\n      <th>min</th>\n      <td>1.000000</td>\n      <td>408.000000</td>\n      <td>0.000000</td>\n      <td>0.000000</td>\n      <td>0.000000</td>\n      <td>0.000000</td>\n      <td>0.000000</td>\n      <td>0.000000</td>\n      <td>0.000000</td>\n      <td>23.200000</td>\n      <td>33.000000</td>\n      <td>1.040000</td>\n      <td>0.000000</td>\n      <td>0.000000</td>\n      <td>0.000000</td>\n      <td>0.000000</td>\n      <td>0.000000</td>\n    </tr>\n    <tr>\n      <th>25%</th>\n      <td>74.000000</td>\n      <td>408.000000</td>\n      <td>0.000000</td>\n      <td>143.700000</td>\n      <td>87.000000</td>\n      <td>24.430000</td>\n      <td>166.600000</td>\n      <td>87.000000</td>\n      <td>14.160000</td>\n      <td>167.000000</td>\n      <td>87.000000</td>\n      <td>7.520000</td>\n      <td>8.500000</td>\n      <td>3.000000</td>\n      <td>2.300000</td>\n      <td>1.000000</td>\n      <td>0.000000</td>\n    </tr>\n    <tr>\n      <th>50%</th>\n      <td>101.000000</td>\n      <td>415.000000</td>\n      <td>0.000000</td>\n      <td>179.400000</td>\n      <td>101.000000</td>\n      <td>30.500000</td>\n      <td>201.400000</td>\n      <td>100.000000</td>\n      <td>17.120000</td>\n      <td>201.200000</td>\n      <td>100.000000</td>\n      <td>9.050000</td>\n      <td>10.300000</td>\n      <td>4.000000</td>\n      <td>2.780000</td>\n      <td>1.000000</td>\n      <td>0.000000</td>\n    </tr>\n    <tr>\n      <th>75%</th>\n      <td>127.000000</td>\n      <td>510.000000</td>\n      <td>20.000000</td>\n      <td>216.400000</td>\n      <td>114.000000</td>\n      <td>36.790000</td>\n      <td>235.300000</td>\n      <td>114.000000</td>\n      <td>20.000000</td>\n      <td>235.300000</td>\n      <td>113.000000</td>\n      <td>10.590000</td>\n      <td>12.100000</td>\n      <td>6.000000</td>\n      <td>3.270000</td>\n      <td>2.000000</td>\n      <td>0.000000</td>\n    </tr>\n    <tr>\n      <th>max</th>\n      <td>243.000000</td>\n      <td>510.000000</td>\n      <td>51.000000</td>\n      <td>350.800000</td>\n      <td>165.000000</td>\n      <td>59.640000</td>\n      <td>363.700000</td>\n      <td>170.000000</td>\n      <td>30.910000</td>\n      <td>395.000000</td>\n      <td>175.000000</td>\n      <td>17.770000</td>\n      <td>20.000000</td>\n      <td>20.000000</td>\n      <td>5.400000</td>\n      <td>9.000000</td>\n      <td>1.000000</td>\n    </tr>\n  </tbody>\n</table>\n</div>"
     },
     "metadata": {},
     "execution_count": 34
    }
   ],
   "source": [
    "data.describe()"
   ]
  },
  {
   "cell_type": "code",
   "execution_count": 35,
   "metadata": {},
   "outputs": [
    {
     "output_type": "execute_result",
     "data": {
      "text/plain": "       state phone number international plan voice mail plan\ncount   3333         3333               3333            3333\nunique    51         3333                  2               2\ntop       WV     365-8114                 no              no\nfreq     106            1               3010            2411",
      "text/html": "<div>\n<style scoped>\n    .dataframe tbody tr th:only-of-type {\n        vertical-align: middle;\n    }\n\n    .dataframe tbody tr th {\n        vertical-align: top;\n    }\n\n    .dataframe thead th {\n        text-align: right;\n    }\n</style>\n<table border=\"1\" class=\"dataframe\">\n  <thead>\n    <tr style=\"text-align: right;\">\n      <th></th>\n      <th>state</th>\n      <th>phone number</th>\n      <th>international plan</th>\n      <th>voice mail plan</th>\n    </tr>\n  </thead>\n  <tbody>\n    <tr>\n      <th>count</th>\n      <td>3333</td>\n      <td>3333</td>\n      <td>3333</td>\n      <td>3333</td>\n    </tr>\n    <tr>\n      <th>unique</th>\n      <td>51</td>\n      <td>3333</td>\n      <td>2</td>\n      <td>2</td>\n    </tr>\n    <tr>\n      <th>top</th>\n      <td>WV</td>\n      <td>365-8114</td>\n      <td>no</td>\n      <td>no</td>\n    </tr>\n    <tr>\n      <th>freq</th>\n      <td>106</td>\n      <td>1</td>\n      <td>3010</td>\n      <td>2411</td>\n    </tr>\n  </tbody>\n</table>\n</div>"
     },
     "metadata": {},
     "execution_count": 35
    }
   ],
   "source": [
    "data.describe(include=['object'])"
   ]
  },
  {
   "cell_type": "code",
   "execution_count": 36,
   "metadata": {},
   "outputs": [
    {
     "output_type": "execute_result",
     "data": {
      "text/plain": "415    1655\n510     840\n408     838\nName: area code, dtype: int64"
     },
     "metadata": {},
     "execution_count": 36
    }
   ],
   "source": [
    "data['area code'].value_counts(normalize=False)"
   ]
  },
  {
   "cell_type": "code",
   "execution_count": 37,
   "metadata": {},
   "outputs": [
    {
     "output_type": "execute_result",
     "data": {
      "text/plain": "WV    106\nMN     84\nNY     83\nAL     80\nOR     78\nOH     78\nWI     78\nVA     77\nWY     77\nCT     74\nID     73\nMI     73\nVT     73\nUT     72\nTX     72\nIN     71\nKS     70\nMD     70\nMT     68\nNJ     68\nNC     68\nWA     66\nCO     66\nNV     66\nMS     65\nMA     65\nRI     65\nAZ     64\nMO     63\nFL     63\nME     62\nND     62\nNM     62\nDE     61\nOK     61\nNE     61\nSD     60\nSC     60\nKY     59\nIL     58\nNH     56\nAR     55\nGA     54\nDC     54\nTN     53\nHI     53\nAK     52\nLA     51\nPA     45\nIA     44\nCA     34\nName: state, dtype: int64"
     },
     "metadata": {},
     "execution_count": 37
    }
   ],
   "source": [
    "data['state'].value_counts()"
   ]
  },
  {
   "cell_type": "code",
   "execution_count": 38,
   "metadata": {},
   "outputs": [
    {
     "output_type": "execute_result",
     "data": {
      "text/plain": "WV    52\nNY    47\nOR    44\nID    41\nWY    41\nAL    40\nOH    40\nMN    40\nMI    39\nMD    39\nCT    39\nMO    37\nKS    37\nUT    37\nTX    37\nVT    36\nAZ    36\nWI    35\nNM    35\nVA    35\nRI    35\nMT    34\nNV    34\nNJ    34\nNE    34\nIN    33\nKY    32\nMS    31\nDE    31\nFL    31\nHI    30\nSC    30\nTN    30\nMA    29\nCO    29\nNC    28\nSD    28\nND    28\nIL    28\nAR    27\nOK    27\nDC    27\nLA    27\nWA    26\nME    25\nAK    24\nGA    21\nIA    20\nPA    19\nNH    19\nCA    17\nName: state, dtype: int64"
     },
     "metadata": {},
     "execution_count": 38
    }
   ],
   "source": [
    "data[data['area code'] == 415]['state'].value_counts()"
   ]
  },
  {
   "cell_type": "code",
   "execution_count": 39,
   "metadata": {},
   "outputs": [
    {
     "output_type": "execute_result",
     "data": {
      "text/plain": "state                           CO\naccount length                 154\narea code                      415\nphone number              343-5709\ninternational plan              no\nvoice mail plan                 no\nnumber vmail messages            0\ntotal day minutes            350.8\ntotal day calls                 75\ntotal day charge             59.64\ntotal eve minutes            216.5\ntotal eve calls                 94\ntotal eve charge              18.4\ntotal night minutes          253.9\ntotal night calls              100\ntotal night charge           11.43\ntotal intl minutes            10.1\ntotal intl calls                 9\ntotal intl charge             2.73\ncustomer service calls           1\nchurn                            1\nName: 365, dtype: object"
     },
     "metadata": {},
     "execution_count": 39
    }
   ],
   "source": [
    "data.sort_values(by='total day charge', ascending=False).loc[365]"
   ]
  },
  {
   "cell_type": "code",
   "execution_count": 40,
   "metadata": {},
   "outputs": [
    {
     "output_type": "execute_result",
     "data": {
      "text/plain": "state                           DE\naccount length                 133\narea code                      510\nphone number              333-2906\ninternational plan              no\nvoice mail plan                 no\nnumber vmail messages            0\ntotal day minutes            245.8\ntotal day calls                102\ntotal day charge             41.79\ntotal eve minutes            264.7\ntotal eve calls                 90\ntotal eve charge              22.5\ntotal night minutes          111.7\ntotal night calls              103\ntotal night charge            5.03\ntotal intl minutes            11.2\ntotal intl calls                 7\ntotal intl charge             3.02\ncustomer service calls           0\nchurn                            0\nName: 1858, dtype: object"
     },
     "metadata": {},
     "execution_count": 40
    }
   ],
   "source": [
    "data.sort_values(by='total day charge', ascending=False).iloc[365]"
   ]
  },
  {
   "cell_type": "code",
   "execution_count": 41,
   "metadata": {},
   "outputs": [
    {
     "output_type": "execute_result",
     "data": {
      "text/plain": "     state  account length  area code phone number international plan  \\\n258     KS              92        408     386-4170                yes   \n21      CO              77        408     393-7984                 no   \n77      NY             144        408     360-1171                 no   \n1538    WV             113        415     341-7686                 no   \n181     AK             126        415     372-3750                 no   \n1837    NH             117        510     397-1766                yes   \n2173    KS              47        510     418-5300                yes   \n2158    FL             166        510     367-1681                yes   \n1531    DE             138        510     380-7816                yes   \n1345    SD              98        415     392-2555                 no   \n\n     voice mail plan  number vmail messages  total day minutes  \\\n258               no                      0               62.6   \n21                no                      0               62.4   \n77                no                      0               61.6   \n1538              no                      0               61.2   \n181               no                      0               58.2   \n1837              no                      0               54.2   \n2173              no                      0               47.8   \n2158              no                      0               47.7   \n1531              no                      0               46.5   \n1345              no                      0                0.0   \n\n      total day calls  total day charge  total eve minutes  total eve calls  \\\n258               111             10.64              180.6              126   \n21                 89             10.61              169.9              121   \n77                117             10.47               77.1               85   \n1538              111             10.40               92.3               88   \n181                94              9.89              138.7              118   \n1837              100              9.21              303.2               84   \n2173              120              8.13              178.9              123   \n2158               89              8.11              264.4               95   \n1531              104              7.91              186.0              114   \n1345                0              0.00              159.6              130   \n\n      total eve charge  total night minutes  total night calls  \\\n258              15.35                221.7                 80   \n21               14.44                209.6                 64   \n77                6.55                173.0                 99   \n1538              7.85                197.4                114   \n181              11.79                136.8                 91   \n1837             25.77                171.8                 84   \n2173             15.21                152.6                 96   \n2158             22.47                235.2                 97   \n1531             15.81                167.5                 95   \n1345             13.57                167.1                 88   \n\n      total night charge  total intl minutes  total intl calls  \\\n258                 9.98                10.4                 2   \n21                  9.43                 5.7                 6   \n77                  7.79                 8.2                 7   \n1538                8.88                13.7                 3   \n181                 6.16                11.9                 1   \n1837                7.73                 8.6                 2   \n2173                6.87                13.3                 7   \n2158               10.58                13.2                 3   \n1531                7.54                 9.6                 4   \n1345                7.52                 6.8                 1   \n\n      total intl charge  customer service calls  churn  \n258                2.81                       1      1  \n21                 1.54                       5      1  \n77                 2.21                       4      1  \n1538               3.70                       5      1  \n181                3.21                       5      1  \n1837               2.32                       1      1  \n2173               3.59                       0      1  \n2158               3.56                       0      1  \n1531               2.59                       4      1  \n1345               1.84                       4      1  ",
      "text/html": "<div>\n<style scoped>\n    .dataframe tbody tr th:only-of-type {\n        vertical-align: middle;\n    }\n\n    .dataframe tbody tr th {\n        vertical-align: top;\n    }\n\n    .dataframe thead th {\n        text-align: right;\n    }\n</style>\n<table border=\"1\" class=\"dataframe\">\n  <thead>\n    <tr style=\"text-align: right;\">\n      <th></th>\n      <th>state</th>\n      <th>account length</th>\n      <th>area code</th>\n      <th>phone number</th>\n      <th>international plan</th>\n      <th>voice mail plan</th>\n      <th>number vmail messages</th>\n      <th>total day minutes</th>\n      <th>total day calls</th>\n      <th>total day charge</th>\n      <th>total eve minutes</th>\n      <th>total eve calls</th>\n      <th>total eve charge</th>\n      <th>total night minutes</th>\n      <th>total night calls</th>\n      <th>total night charge</th>\n      <th>total intl minutes</th>\n      <th>total intl calls</th>\n      <th>total intl charge</th>\n      <th>customer service calls</th>\n      <th>churn</th>\n    </tr>\n  </thead>\n  <tbody>\n    <tr>\n      <th>258</th>\n      <td>KS</td>\n      <td>92</td>\n      <td>408</td>\n      <td>386-4170</td>\n      <td>yes</td>\n      <td>no</td>\n      <td>0</td>\n      <td>62.6</td>\n      <td>111</td>\n      <td>10.64</td>\n      <td>180.6</td>\n      <td>126</td>\n      <td>15.35</td>\n      <td>221.7</td>\n      <td>80</td>\n      <td>9.98</td>\n      <td>10.4</td>\n      <td>2</td>\n      <td>2.81</td>\n      <td>1</td>\n      <td>1</td>\n    </tr>\n    <tr>\n      <th>21</th>\n      <td>CO</td>\n      <td>77</td>\n      <td>408</td>\n      <td>393-7984</td>\n      <td>no</td>\n      <td>no</td>\n      <td>0</td>\n      <td>62.4</td>\n      <td>89</td>\n      <td>10.61</td>\n      <td>169.9</td>\n      <td>121</td>\n      <td>14.44</td>\n      <td>209.6</td>\n      <td>64</td>\n      <td>9.43</td>\n      <td>5.7</td>\n      <td>6</td>\n      <td>1.54</td>\n      <td>5</td>\n      <td>1</td>\n    </tr>\n    <tr>\n      <th>77</th>\n      <td>NY</td>\n      <td>144</td>\n      <td>408</td>\n      <td>360-1171</td>\n      <td>no</td>\n      <td>no</td>\n      <td>0</td>\n      <td>61.6</td>\n      <td>117</td>\n      <td>10.47</td>\n      <td>77.1</td>\n      <td>85</td>\n      <td>6.55</td>\n      <td>173.0</td>\n      <td>99</td>\n      <td>7.79</td>\n      <td>8.2</td>\n      <td>7</td>\n      <td>2.21</td>\n      <td>4</td>\n      <td>1</td>\n    </tr>\n    <tr>\n      <th>1538</th>\n      <td>WV</td>\n      <td>113</td>\n      <td>415</td>\n      <td>341-7686</td>\n      <td>no</td>\n      <td>no</td>\n      <td>0</td>\n      <td>61.2</td>\n      <td>111</td>\n      <td>10.40</td>\n      <td>92.3</td>\n      <td>88</td>\n      <td>7.85</td>\n      <td>197.4</td>\n      <td>114</td>\n      <td>8.88</td>\n      <td>13.7</td>\n      <td>3</td>\n      <td>3.70</td>\n      <td>5</td>\n      <td>1</td>\n    </tr>\n    <tr>\n      <th>181</th>\n      <td>AK</td>\n      <td>126</td>\n      <td>415</td>\n      <td>372-3750</td>\n      <td>no</td>\n      <td>no</td>\n      <td>0</td>\n      <td>58.2</td>\n      <td>94</td>\n      <td>9.89</td>\n      <td>138.7</td>\n      <td>118</td>\n      <td>11.79</td>\n      <td>136.8</td>\n      <td>91</td>\n      <td>6.16</td>\n      <td>11.9</td>\n      <td>1</td>\n      <td>3.21</td>\n      <td>5</td>\n      <td>1</td>\n    </tr>\n    <tr>\n      <th>1837</th>\n      <td>NH</td>\n      <td>117</td>\n      <td>510</td>\n      <td>397-1766</td>\n      <td>yes</td>\n      <td>no</td>\n      <td>0</td>\n      <td>54.2</td>\n      <td>100</td>\n      <td>9.21</td>\n      <td>303.2</td>\n      <td>84</td>\n      <td>25.77</td>\n      <td>171.8</td>\n      <td>84</td>\n      <td>7.73</td>\n      <td>8.6</td>\n      <td>2</td>\n      <td>2.32</td>\n      <td>1</td>\n      <td>1</td>\n    </tr>\n    <tr>\n      <th>2173</th>\n      <td>KS</td>\n      <td>47</td>\n      <td>510</td>\n      <td>418-5300</td>\n      <td>yes</td>\n      <td>no</td>\n      <td>0</td>\n      <td>47.8</td>\n      <td>120</td>\n      <td>8.13</td>\n      <td>178.9</td>\n      <td>123</td>\n      <td>15.21</td>\n      <td>152.6</td>\n      <td>96</td>\n      <td>6.87</td>\n      <td>13.3</td>\n      <td>7</td>\n      <td>3.59</td>\n      <td>0</td>\n      <td>1</td>\n    </tr>\n    <tr>\n      <th>2158</th>\n      <td>FL</td>\n      <td>166</td>\n      <td>510</td>\n      <td>367-1681</td>\n      <td>yes</td>\n      <td>no</td>\n      <td>0</td>\n      <td>47.7</td>\n      <td>89</td>\n      <td>8.11</td>\n      <td>264.4</td>\n      <td>95</td>\n      <td>22.47</td>\n      <td>235.2</td>\n      <td>97</td>\n      <td>10.58</td>\n      <td>13.2</td>\n      <td>3</td>\n      <td>3.56</td>\n      <td>0</td>\n      <td>1</td>\n    </tr>\n    <tr>\n      <th>1531</th>\n      <td>DE</td>\n      <td>138</td>\n      <td>510</td>\n      <td>380-7816</td>\n      <td>yes</td>\n      <td>no</td>\n      <td>0</td>\n      <td>46.5</td>\n      <td>104</td>\n      <td>7.91</td>\n      <td>186.0</td>\n      <td>114</td>\n      <td>15.81</td>\n      <td>167.5</td>\n      <td>95</td>\n      <td>7.54</td>\n      <td>9.6</td>\n      <td>4</td>\n      <td>2.59</td>\n      <td>4</td>\n      <td>1</td>\n    </tr>\n    <tr>\n      <th>1345</th>\n      <td>SD</td>\n      <td>98</td>\n      <td>415</td>\n      <td>392-2555</td>\n      <td>no</td>\n      <td>no</td>\n      <td>0</td>\n      <td>0.0</td>\n      <td>0</td>\n      <td>0.00</td>\n      <td>159.6</td>\n      <td>130</td>\n      <td>13.57</td>\n      <td>167.1</td>\n      <td>88</td>\n      <td>7.52</td>\n      <td>6.8</td>\n      <td>1</td>\n      <td>1.84</td>\n      <td>4</td>\n      <td>1</td>\n    </tr>\n  </tbody>\n</table>\n</div>"
     },
     "metadata": {},
     "execution_count": 41
    }
   ],
   "source": [
    "data.sort_values(by=['churn', 'total day charge'], ascending=[True, False]).tail(10)"
   ]
  },
  {
   "cell_type": "code",
   "execution_count": 42,
   "metadata": {},
   "outputs": [
    {
     "output_type": "execute_result",
     "data": {
      "text/plain": "       account length    area code  number vmail messages  total day minutes  \\\ncount     3333.000000  3333.000000            3333.000000        3333.000000   \nmean       101.064806   437.182418               8.099010         179.775098   \nstd         39.822106    42.371290              13.688365          54.467389   \nmin          1.000000   408.000000               0.000000           0.000000   \n25%         74.000000   408.000000               0.000000         143.700000   \n50%        101.000000   415.000000               0.000000         179.400000   \n75%        127.000000   510.000000              20.000000         216.400000   \nmax        243.000000   510.000000              51.000000         350.800000   \n\n       total day calls  total day charge  total eve minutes  total eve calls  \\\ncount      3333.000000       3333.000000        3333.000000      3333.000000   \nmean        100.435644         30.562307         200.980348       100.114311   \nstd          20.069084          9.259435          50.713844        19.922625   \nmin           0.000000          0.000000           0.000000         0.000000   \n25%          87.000000         24.430000         166.600000        87.000000   \n50%         101.000000         30.500000         201.400000       100.000000   \n75%         114.000000         36.790000         235.300000       114.000000   \nmax         165.000000         59.640000         363.700000       170.000000   \n\n       total eve charge  total night minutes  total night calls  \\\ncount       3333.000000          3333.000000        3333.000000   \nmean          17.083540           200.872037         100.107711   \nstd            4.310668            50.573847          19.568609   \nmin            0.000000            23.200000          33.000000   \n25%           14.160000           167.000000          87.000000   \n50%           17.120000           201.200000         100.000000   \n75%           20.000000           235.300000         113.000000   \nmax           30.910000           395.000000         175.000000   \n\n       total night charge  total intl minutes  total intl calls  \\\ncount         3333.000000         3333.000000       3333.000000   \nmean             9.039325           10.237294          4.479448   \nstd              2.275873            2.791840          2.461214   \nmin              1.040000            0.000000          0.000000   \n25%              7.520000            8.500000          3.000000   \n50%              9.050000           10.300000          4.000000   \n75%             10.590000           12.100000          6.000000   \nmax             17.770000           20.000000         20.000000   \n\n       total intl charge  customer service calls        churn  \ncount        3333.000000             3333.000000  3333.000000  \nmean            2.764581                1.562856     0.144914  \nstd             0.753773                1.315491     0.352067  \nmin             0.000000                0.000000     0.000000  \n25%             2.300000                1.000000     0.000000  \n50%             2.780000                1.000000     0.000000  \n75%             3.270000                2.000000     0.000000  \nmax             5.400000                9.000000     1.000000  ",
      "text/html": "<div>\n<style scoped>\n    .dataframe tbody tr th:only-of-type {\n        vertical-align: middle;\n    }\n\n    .dataframe tbody tr th {\n        vertical-align: top;\n    }\n\n    .dataframe thead th {\n        text-align: right;\n    }\n</style>\n<table border=\"1\" class=\"dataframe\">\n  <thead>\n    <tr style=\"text-align: right;\">\n      <th></th>\n      <th>account length</th>\n      <th>area code</th>\n      <th>number vmail messages</th>\n      <th>total day minutes</th>\n      <th>total day calls</th>\n      <th>total day charge</th>\n      <th>total eve minutes</th>\n      <th>total eve calls</th>\n      <th>total eve charge</th>\n      <th>total night minutes</th>\n      <th>total night calls</th>\n      <th>total night charge</th>\n      <th>total intl minutes</th>\n      <th>total intl calls</th>\n      <th>total intl charge</th>\n      <th>customer service calls</th>\n      <th>churn</th>\n    </tr>\n  </thead>\n  <tbody>\n    <tr>\n      <th>count</th>\n      <td>3333.000000</td>\n      <td>3333.000000</td>\n      <td>3333.000000</td>\n      <td>3333.000000</td>\n      <td>3333.000000</td>\n      <td>3333.000000</td>\n      <td>3333.000000</td>\n      <td>3333.000000</td>\n      <td>3333.000000</td>\n      <td>3333.000000</td>\n      <td>3333.000000</td>\n      <td>3333.000000</td>\n      <td>3333.000000</td>\n      <td>3333.000000</td>\n      <td>3333.000000</td>\n      <td>3333.000000</td>\n      <td>3333.000000</td>\n    </tr>\n    <tr>\n      <th>mean</th>\n      <td>101.064806</td>\n      <td>437.182418</td>\n      <td>8.099010</td>\n      <td>179.775098</td>\n      <td>100.435644</td>\n      <td>30.562307</td>\n      <td>200.980348</td>\n      <td>100.114311</td>\n      <td>17.083540</td>\n      <td>200.872037</td>\n      <td>100.107711</td>\n      <td>9.039325</td>\n      <td>10.237294</td>\n      <td>4.479448</td>\n      <td>2.764581</td>\n      <td>1.562856</td>\n      <td>0.144914</td>\n    </tr>\n    <tr>\n      <th>std</th>\n      <td>39.822106</td>\n      <td>42.371290</td>\n      <td>13.688365</td>\n      <td>54.467389</td>\n      <td>20.069084</td>\n      <td>9.259435</td>\n      <td>50.713844</td>\n      <td>19.922625</td>\n      <td>4.310668</td>\n      <td>50.573847</td>\n      <td>19.568609</td>\n      <td>2.275873</td>\n      <td>2.791840</td>\n      <td>2.461214</td>\n      <td>0.753773</td>\n      <td>1.315491</td>\n      <td>0.352067</td>\n    </tr>\n    <tr>\n      <th>min</th>\n      <td>1.000000</td>\n      <td>408.000000</td>\n      <td>0.000000</td>\n      <td>0.000000</td>\n      <td>0.000000</td>\n      <td>0.000000</td>\n      <td>0.000000</td>\n      <td>0.000000</td>\n      <td>0.000000</td>\n      <td>23.200000</td>\n      <td>33.000000</td>\n      <td>1.040000</td>\n      <td>0.000000</td>\n      <td>0.000000</td>\n      <td>0.000000</td>\n      <td>0.000000</td>\n      <td>0.000000</td>\n    </tr>\n    <tr>\n      <th>25%</th>\n      <td>74.000000</td>\n      <td>408.000000</td>\n      <td>0.000000</td>\n      <td>143.700000</td>\n      <td>87.000000</td>\n      <td>24.430000</td>\n      <td>166.600000</td>\n      <td>87.000000</td>\n      <td>14.160000</td>\n      <td>167.000000</td>\n      <td>87.000000</td>\n      <td>7.520000</td>\n      <td>8.500000</td>\n      <td>3.000000</td>\n      <td>2.300000</td>\n      <td>1.000000</td>\n      <td>0.000000</td>\n    </tr>\n    <tr>\n      <th>50%</th>\n      <td>101.000000</td>\n      <td>415.000000</td>\n      <td>0.000000</td>\n      <td>179.400000</td>\n      <td>101.000000</td>\n      <td>30.500000</td>\n      <td>201.400000</td>\n      <td>100.000000</td>\n      <td>17.120000</td>\n      <td>201.200000</td>\n      <td>100.000000</td>\n      <td>9.050000</td>\n      <td>10.300000</td>\n      <td>4.000000</td>\n      <td>2.780000</td>\n      <td>1.000000</td>\n      <td>0.000000</td>\n    </tr>\n    <tr>\n      <th>75%</th>\n      <td>127.000000</td>\n      <td>510.000000</td>\n      <td>20.000000</td>\n      <td>216.400000</td>\n      <td>114.000000</td>\n      <td>36.790000</td>\n      <td>235.300000</td>\n      <td>114.000000</td>\n      <td>20.000000</td>\n      <td>235.300000</td>\n      <td>113.000000</td>\n      <td>10.590000</td>\n      <td>12.100000</td>\n      <td>6.000000</td>\n      <td>3.270000</td>\n      <td>2.000000</td>\n      <td>0.000000</td>\n    </tr>\n    <tr>\n      <th>max</th>\n      <td>243.000000</td>\n      <td>510.000000</td>\n      <td>51.000000</td>\n      <td>350.800000</td>\n      <td>165.000000</td>\n      <td>59.640000</td>\n      <td>363.700000</td>\n      <td>170.000000</td>\n      <td>30.910000</td>\n      <td>395.000000</td>\n      <td>175.000000</td>\n      <td>17.770000</td>\n      <td>20.000000</td>\n      <td>20.000000</td>\n      <td>5.400000</td>\n      <td>9.000000</td>\n      <td>1.000000</td>\n    </tr>\n  </tbody>\n</table>\n</div>"
     },
     "metadata": {},
     "execution_count": 42
    }
   ],
   "source": [
    "data.describe()"
   ]
  },
  {
   "cell_type": "code",
   "execution_count": 43,
   "metadata": {},
   "outputs": [
    {
     "output_type": "execute_result",
     "data": {
      "text/plain": "       account length    area code  number vmail messages  total day minutes  \\\ncount    -2367.000000 -2367.000000           -2367.000000       -2367.000000   \nmean         1.870912     0.743069              -3.488619          31.738324   \nstd         -0.414530     0.486114              -2.052987          18.816136   \nmin          0.000000     0.000000               0.000000           0.000000   \n25%          3.000000     0.000000               0.000000          10.425000   \n50%          3.000000     0.000000               0.000000          40.400000   \n75%          0.000000     0.000000             -22.000000          55.650000   \nmax        -18.000000     0.000000              -3.000000          35.200000   \n\n       total day calls  total day charge  total eve minutes  total eve calls  \\\ncount     -2367.000000      -2367.000000       -2367.000000     -2367.000000   \nmean          1.052246          5.395500          13.366847         0.522480   \nstd           1.781150          3.198874           1.436735        -0.233703   \nmin           0.000000          0.000000          70.900000        48.000000   \n25%           0.500000          1.772500          12.600000         0.000000   \n50%           3.000000          6.870000          11.700000         1.000000   \n75%           2.500000          9.460000          16.250000         0.000000   \nmax           2.000000          5.990000           1.900000        -2.000000   \n\n       total eve charge  total night minutes  total night calls  \\\ncount       -2367.00000         -2367.000000       -2367.000000   \nmean            1.13606             5.098484           0.341340   \nstd             0.12190            -3.972208           0.444413   \nmin             6.03000            24.200000          16.000000   \n25%             1.07500             5.350000          -2.000000   \n50%             0.99000             4.550000           0.000000   \n75%             1.38500             4.950000           2.000000   \nmax             0.16000           -40.100000         -17.000000   \n\n       total night charge  total intl minutes  total intl calls  \\\ncount        -2367.000000        -2367.000000      -2367.000000   \nmean             0.229454            0.541123         -0.369421   \nstd             -0.178687            0.008700          0.109591   \nmin              1.090000            2.000000          1.000000   \n25%              0.235000            0.400000         -1.000000   \n50%              0.210000            0.400000          0.000000   \n75%              0.225000            0.800000         -1.000000   \nmax             -1.800000            1.100000          1.000000   \n\n       total intl charge  customer service calls   churn  \ncount       -2367.000000            -2367.000000 -2367.0  \nmean            0.146141                0.779989     1.0  \nstd             0.002368                0.689392     0.0  \nmin             0.540000                0.000000     1.0  \n25%             0.110000                0.000000     1.0  \n50%             0.110000                1.000000     1.0  \n75%             0.220000                2.000000     1.0  \nmax             0.300000                1.000000     1.0  ",
      "text/html": "<div>\n<style scoped>\n    .dataframe tbody tr th:only-of-type {\n        vertical-align: middle;\n    }\n\n    .dataframe tbody tr th {\n        vertical-align: top;\n    }\n\n    .dataframe thead th {\n        text-align: right;\n    }\n</style>\n<table border=\"1\" class=\"dataframe\">\n  <thead>\n    <tr style=\"text-align: right;\">\n      <th></th>\n      <th>account length</th>\n      <th>area code</th>\n      <th>number vmail messages</th>\n      <th>total day minutes</th>\n      <th>total day calls</th>\n      <th>total day charge</th>\n      <th>total eve minutes</th>\n      <th>total eve calls</th>\n      <th>total eve charge</th>\n      <th>total night minutes</th>\n      <th>total night calls</th>\n      <th>total night charge</th>\n      <th>total intl minutes</th>\n      <th>total intl calls</th>\n      <th>total intl charge</th>\n      <th>customer service calls</th>\n      <th>churn</th>\n    </tr>\n  </thead>\n  <tbody>\n    <tr>\n      <th>count</th>\n      <td>-2367.000000</td>\n      <td>-2367.000000</td>\n      <td>-2367.000000</td>\n      <td>-2367.000000</td>\n      <td>-2367.000000</td>\n      <td>-2367.000000</td>\n      <td>-2367.000000</td>\n      <td>-2367.000000</td>\n      <td>-2367.00000</td>\n      <td>-2367.000000</td>\n      <td>-2367.000000</td>\n      <td>-2367.000000</td>\n      <td>-2367.000000</td>\n      <td>-2367.000000</td>\n      <td>-2367.000000</td>\n      <td>-2367.000000</td>\n      <td>-2367.0</td>\n    </tr>\n    <tr>\n      <th>mean</th>\n      <td>1.870912</td>\n      <td>0.743069</td>\n      <td>-3.488619</td>\n      <td>31.738324</td>\n      <td>1.052246</td>\n      <td>5.395500</td>\n      <td>13.366847</td>\n      <td>0.522480</td>\n      <td>1.13606</td>\n      <td>5.098484</td>\n      <td>0.341340</td>\n      <td>0.229454</td>\n      <td>0.541123</td>\n      <td>-0.369421</td>\n      <td>0.146141</td>\n      <td>0.779989</td>\n      <td>1.0</td>\n    </tr>\n    <tr>\n      <th>std</th>\n      <td>-0.414530</td>\n      <td>0.486114</td>\n      <td>-2.052987</td>\n      <td>18.816136</td>\n      <td>1.781150</td>\n      <td>3.198874</td>\n      <td>1.436735</td>\n      <td>-0.233703</td>\n      <td>0.12190</td>\n      <td>-3.972208</td>\n      <td>0.444413</td>\n      <td>-0.178687</td>\n      <td>0.008700</td>\n      <td>0.109591</td>\n      <td>0.002368</td>\n      <td>0.689392</td>\n      <td>0.0</td>\n    </tr>\n    <tr>\n      <th>min</th>\n      <td>0.000000</td>\n      <td>0.000000</td>\n      <td>0.000000</td>\n      <td>0.000000</td>\n      <td>0.000000</td>\n      <td>0.000000</td>\n      <td>70.900000</td>\n      <td>48.000000</td>\n      <td>6.03000</td>\n      <td>24.200000</td>\n      <td>16.000000</td>\n      <td>1.090000</td>\n      <td>2.000000</td>\n      <td>1.000000</td>\n      <td>0.540000</td>\n      <td>0.000000</td>\n      <td>1.0</td>\n    </tr>\n    <tr>\n      <th>25%</th>\n      <td>3.000000</td>\n      <td>0.000000</td>\n      <td>0.000000</td>\n      <td>10.425000</td>\n      <td>0.500000</td>\n      <td>1.772500</td>\n      <td>12.600000</td>\n      <td>0.000000</td>\n      <td>1.07500</td>\n      <td>5.350000</td>\n      <td>-2.000000</td>\n      <td>0.235000</td>\n      <td>0.400000</td>\n      <td>-1.000000</td>\n      <td>0.110000</td>\n      <td>0.000000</td>\n      <td>1.0</td>\n    </tr>\n    <tr>\n      <th>50%</th>\n      <td>3.000000</td>\n      <td>0.000000</td>\n      <td>0.000000</td>\n      <td>40.400000</td>\n      <td>3.000000</td>\n      <td>6.870000</td>\n      <td>11.700000</td>\n      <td>1.000000</td>\n      <td>0.99000</td>\n      <td>4.550000</td>\n      <td>0.000000</td>\n      <td>0.210000</td>\n      <td>0.400000</td>\n      <td>0.000000</td>\n      <td>0.110000</td>\n      <td>1.000000</td>\n      <td>1.0</td>\n    </tr>\n    <tr>\n      <th>75%</th>\n      <td>0.000000</td>\n      <td>0.000000</td>\n      <td>-22.000000</td>\n      <td>55.650000</td>\n      <td>2.500000</td>\n      <td>9.460000</td>\n      <td>16.250000</td>\n      <td>0.000000</td>\n      <td>1.38500</td>\n      <td>4.950000</td>\n      <td>2.000000</td>\n      <td>0.225000</td>\n      <td>0.800000</td>\n      <td>-1.000000</td>\n      <td>0.220000</td>\n      <td>2.000000</td>\n      <td>1.0</td>\n    </tr>\n    <tr>\n      <th>max</th>\n      <td>-18.000000</td>\n      <td>0.000000</td>\n      <td>-3.000000</td>\n      <td>35.200000</td>\n      <td>2.000000</td>\n      <td>5.990000</td>\n      <td>1.900000</td>\n      <td>-2.000000</td>\n      <td>0.16000</td>\n      <td>-40.100000</td>\n      <td>-17.000000</td>\n      <td>-1.800000</td>\n      <td>1.100000</td>\n      <td>1.000000</td>\n      <td>0.300000</td>\n      <td>1.000000</td>\n      <td>1.0</td>\n    </tr>\n  </tbody>\n</table>\n</div>"
     },
     "metadata": {},
     "execution_count": 43
    }
   ],
   "source": [
    "data[data['churn']==1].describe()-data[data['churn']==0].describe()"
   ]
  },
  {
   "cell_type": "code",
   "execution_count": 44,
   "metadata": {},
   "outputs": [
    {
     "output_type": "execute_result",
     "data": {
      "text/plain": "175.1757543859649"
     },
     "metadata": {},
     "execution_count": 44
    }
   ],
   "source": [
    "data[data['churn']==0]['total day minutes'].mean()"
   ]
  },
  {
   "cell_type": "code",
   "execution_count": 45,
   "metadata": {},
   "outputs": [
    {
     "output_type": "execute_result",
     "data": {
      "text/plain": "array(['no', 'yes'], dtype=object)"
     },
     "metadata": {},
     "execution_count": 45
    }
   ],
   "source": [
    "data['international plan'].unique()"
   ]
  },
  {
   "cell_type": "code",
   "execution_count": 46,
   "metadata": {},
   "outputs": [
    {
     "output_type": "execute_result",
     "data": {
      "text/plain": "18.9"
     },
     "metadata": {},
     "execution_count": 46
    }
   ],
   "source": [
    "data[(data['churn'] == 0) & (data['international plan'] == 'no')]['total intl minutes'].max()"
   ]
  },
  {
   "cell_type": "code",
   "execution_count": 47,
   "metadata": {},
   "outputs": [
    {
     "output_type": "execute_result",
     "data": {
      "text/plain": "total day minutes      179.775098\ntotal day charge        30.562307\ntotal eve minutes      200.980348\ntotal eve charge        17.083540\ntotal night minutes    200.872037\ntotal night charge       9.039325\ntotal intl minutes      10.237294\ntotal intl charge        2.764581\ndtype: float64"
     },
     "metadata": {},
     "execution_count": 47
    }
   ],
   "source": [
    "data.loc[:, data.dtypes == 'float64'].apply(np.mean)"
   ]
  },
  {
   "cell_type": "code",
   "execution_count": 48,
   "metadata": {},
   "outputs": [
    {
     "output_type": "execute_result",
     "data": {
      "text/plain": "            total day minutes               total eve minutes                \\\n                         mean   amax   amin              mean   amax   amin   \nchurn state                                                                   \n0     AK           179.516327  278.4   75.8        185.481633  314.4   58.6   \n      AL           183.825000  308.0   68.7        191.261111  299.9   77.9   \n      AR           175.477273  273.4   55.3        194.122727  284.5  127.8   \n      AZ           169.700000  281.1   58.9        186.448333  328.7   72.9   \n      CA           181.132000  268.6   92.8        201.584000  281.3  129.2   \n...                       ...    ...    ...               ...    ...    ...   \n1     VT           211.375000  278.0  115.5        230.500000  302.6  177.5   \n      WA           214.771429  289.1   70.8        222.885714  277.4  173.3   \n      WI           214.571429  326.3  126.9        203.514286  275.5  165.1   \n      WV           181.090000  312.0   61.2        204.350000  315.4   70.9   \n      WY           237.844444  296.0  151.0        205.311111  230.3  143.8   \n\n            total night minutes                \n                           mean   amax   amin  \nchurn state                                    \n0     AK             194.153061  303.5   23.2  \n      AL             188.145833  287.6   94.1  \n      AR             208.050000  367.7   96.4  \n      AZ             191.803333  294.7   77.3  \n      CA             191.240000  345.8   71.1  \n...                         ...    ...    ...  \n1     VT             221.075000  277.3  133.7  \n      WA             200.314286  254.4  130.0  \n      WI             162.585714  176.7  143.2  \n      WV             197.240000  279.8  151.7  \n      WY             222.066667  268.6  140.1  \n\n[102 rows x 9 columns]",
      "text/html": "<div>\n<style scoped>\n    .dataframe tbody tr th:only-of-type {\n        vertical-align: middle;\n    }\n\n    .dataframe tbody tr th {\n        vertical-align: top;\n    }\n\n    .dataframe thead tr th {\n        text-align: left;\n    }\n\n    .dataframe thead tr:last-of-type th {\n        text-align: right;\n    }\n</style>\n<table border=\"1\" class=\"dataframe\">\n  <thead>\n    <tr>\n      <th></th>\n      <th></th>\n      <th colspan=\"3\" halign=\"left\">total day minutes</th>\n      <th colspan=\"3\" halign=\"left\">total eve minutes</th>\n      <th colspan=\"3\" halign=\"left\">total night minutes</th>\n    </tr>\n    <tr>\n      <th></th>\n      <th></th>\n      <th>mean</th>\n      <th>amax</th>\n      <th>amin</th>\n      <th>mean</th>\n      <th>amax</th>\n      <th>amin</th>\n      <th>mean</th>\n      <th>amax</th>\n      <th>amin</th>\n    </tr>\n    <tr>\n      <th>churn</th>\n      <th>state</th>\n      <th></th>\n      <th></th>\n      <th></th>\n      <th></th>\n      <th></th>\n      <th></th>\n      <th></th>\n      <th></th>\n      <th></th>\n    </tr>\n  </thead>\n  <tbody>\n    <tr>\n      <th rowspan=\"5\" valign=\"top\">0</th>\n      <th>AK</th>\n      <td>179.516327</td>\n      <td>278.4</td>\n      <td>75.8</td>\n      <td>185.481633</td>\n      <td>314.4</td>\n      <td>58.6</td>\n      <td>194.153061</td>\n      <td>303.5</td>\n      <td>23.2</td>\n    </tr>\n    <tr>\n      <th>AL</th>\n      <td>183.825000</td>\n      <td>308.0</td>\n      <td>68.7</td>\n      <td>191.261111</td>\n      <td>299.9</td>\n      <td>77.9</td>\n      <td>188.145833</td>\n      <td>287.6</td>\n      <td>94.1</td>\n    </tr>\n    <tr>\n      <th>AR</th>\n      <td>175.477273</td>\n      <td>273.4</td>\n      <td>55.3</td>\n      <td>194.122727</td>\n      <td>284.5</td>\n      <td>127.8</td>\n      <td>208.050000</td>\n      <td>367.7</td>\n      <td>96.4</td>\n    </tr>\n    <tr>\n      <th>AZ</th>\n      <td>169.700000</td>\n      <td>281.1</td>\n      <td>58.9</td>\n      <td>186.448333</td>\n      <td>328.7</td>\n      <td>72.9</td>\n      <td>191.803333</td>\n      <td>294.7</td>\n      <td>77.3</td>\n    </tr>\n    <tr>\n      <th>CA</th>\n      <td>181.132000</td>\n      <td>268.6</td>\n      <td>92.8</td>\n      <td>201.584000</td>\n      <td>281.3</td>\n      <td>129.2</td>\n      <td>191.240000</td>\n      <td>345.8</td>\n      <td>71.1</td>\n    </tr>\n    <tr>\n      <th>...</th>\n      <th>...</th>\n      <td>...</td>\n      <td>...</td>\n      <td>...</td>\n      <td>...</td>\n      <td>...</td>\n      <td>...</td>\n      <td>...</td>\n      <td>...</td>\n      <td>...</td>\n    </tr>\n    <tr>\n      <th rowspan=\"5\" valign=\"top\">1</th>\n      <th>VT</th>\n      <td>211.375000</td>\n      <td>278.0</td>\n      <td>115.5</td>\n      <td>230.500000</td>\n      <td>302.6</td>\n      <td>177.5</td>\n      <td>221.075000</td>\n      <td>277.3</td>\n      <td>133.7</td>\n    </tr>\n    <tr>\n      <th>WA</th>\n      <td>214.771429</td>\n      <td>289.1</td>\n      <td>70.8</td>\n      <td>222.885714</td>\n      <td>277.4</td>\n      <td>173.3</td>\n      <td>200.314286</td>\n      <td>254.4</td>\n      <td>130.0</td>\n    </tr>\n    <tr>\n      <th>WI</th>\n      <td>214.571429</td>\n      <td>326.3</td>\n      <td>126.9</td>\n      <td>203.514286</td>\n      <td>275.5</td>\n      <td>165.1</td>\n      <td>162.585714</td>\n      <td>176.7</td>\n      <td>143.2</td>\n    </tr>\n    <tr>\n      <th>WV</th>\n      <td>181.090000</td>\n      <td>312.0</td>\n      <td>61.2</td>\n      <td>204.350000</td>\n      <td>315.4</td>\n      <td>70.9</td>\n      <td>197.240000</td>\n      <td>279.8</td>\n      <td>151.7</td>\n    </tr>\n    <tr>\n      <th>WY</th>\n      <td>237.844444</td>\n      <td>296.0</td>\n      <td>151.0</td>\n      <td>205.311111</td>\n      <td>230.3</td>\n      <td>143.8</td>\n      <td>222.066667</td>\n      <td>268.6</td>\n      <td>140.1</td>\n    </tr>\n  </tbody>\n</table>\n<p>102 rows × 9 columns</p>\n</div>"
     },
     "metadata": {},
     "execution_count": 48
    }
   ],
   "source": [
    "columns = ['total day minutes', 'total eve minutes', 'total night minutes']\n",
    "\n",
    "data.groupby(['churn', 'state'])[columns].agg([np.mean, np.max, np.min])"
   ]
  },
  {
   "cell_type": "code",
   "execution_count": 49,
   "metadata": {},
   "outputs": [
    {
     "output_type": "execute_result",
     "data": {
      "text/plain": "voice mail plan        no       yes\nchurn                              \n0                0.602460  0.252625\n1                0.120912  0.024002",
      "text/html": "<div>\n<style scoped>\n    .dataframe tbody tr th:only-of-type {\n        vertical-align: middle;\n    }\n\n    .dataframe tbody tr th {\n        vertical-align: top;\n    }\n\n    .dataframe thead th {\n        text-align: right;\n    }\n</style>\n<table border=\"1\" class=\"dataframe\">\n  <thead>\n    <tr style=\"text-align: right;\">\n      <th>voice mail plan</th>\n      <th>no</th>\n      <th>yes</th>\n    </tr>\n    <tr>\n      <th>churn</th>\n      <th></th>\n      <th></th>\n    </tr>\n  </thead>\n  <tbody>\n    <tr>\n      <th>0</th>\n      <td>0.602460</td>\n      <td>0.252625</td>\n    </tr>\n    <tr>\n      <th>1</th>\n      <td>0.120912</td>\n      <td>0.024002</td>\n    </tr>\n  </tbody>\n</table>\n</div>"
     },
     "metadata": {},
     "execution_count": 49
    }
   ],
   "source": [
    "pd.crosstab(data['churn'], data['voice mail plan'], normalize=True)"
   ]
  },
  {
   "cell_type": "code",
   "execution_count": 50,
   "metadata": {},
   "outputs": [
    {
     "output_type": "execute_result",
     "data": {
      "text/plain": "           total day minutes  total eve minutes  total night minutes\narea code                                                           \n408                    322.5              363.7                367.7\n415                    350.8              361.8                381.9\n510                    345.3              350.9                395.0",
      "text/html": "<div>\n<style scoped>\n    .dataframe tbody tr th:only-of-type {\n        vertical-align: middle;\n    }\n\n    .dataframe tbody tr th {\n        vertical-align: top;\n    }\n\n    .dataframe thead th {\n        text-align: right;\n    }\n</style>\n<table border=\"1\" class=\"dataframe\">\n  <thead>\n    <tr style=\"text-align: right;\">\n      <th></th>\n      <th>total day minutes</th>\n      <th>total eve minutes</th>\n      <th>total night minutes</th>\n    </tr>\n    <tr>\n      <th>area code</th>\n      <th></th>\n      <th></th>\n      <th></th>\n    </tr>\n  </thead>\n  <tbody>\n    <tr>\n      <th>408</th>\n      <td>322.5</td>\n      <td>363.7</td>\n      <td>367.7</td>\n    </tr>\n    <tr>\n      <th>415</th>\n      <td>350.8</td>\n      <td>361.8</td>\n      <td>381.9</td>\n    </tr>\n    <tr>\n      <th>510</th>\n      <td>345.3</td>\n      <td>350.9</td>\n      <td>395.0</td>\n    </tr>\n  </tbody>\n</table>\n</div>"
     },
     "metadata": {},
     "execution_count": 50
    }
   ],
   "source": [
    "data.pivot_table(['total day minutes', 'total eve minutes', 'total night minutes'], ['area code'], aggfunc='max')"
   ]
  },
  {
   "cell_type": "code",
   "execution_count": 51,
   "metadata": {},
   "outputs": [],
   "source": [
    "total_calls = data['total day minutes'] + data['total eve minutes'] + data['total night minutes'] + data['total intl minutes']"
   ]
  },
  {
   "cell_type": "code",
   "execution_count": 52,
   "metadata": {},
   "outputs": [
    {
     "output_type": "execute_result",
     "data": {
      "text/plain": "0       717.2\n1       625.2\n2       539.4\n3       564.8\n4       512.0\n        ...  \n3328    660.7\n3329    585.4\n3330    675.6\n3331    517.6\n3332    755.4\nLength: 3333, dtype: float64"
     },
     "metadata": {},
     "execution_count": 52
    }
   ],
   "source": [
    "columns = ['total day minutes', 'total eve minutes', 'total night minutes', 'total intl minutes']\n",
    "data[columns].agg(np.sum, axis=1)"
   ]
  },
  {
   "cell_type": "code",
   "execution_count": 53,
   "metadata": {},
   "outputs": [],
   "source": [
    "data.insert(loc=len(data.columns), column='total calls', value=total_calls)"
   ]
  },
  {
   "cell_type": "code",
   "execution_count": 54,
   "metadata": {},
   "outputs": [],
   "source": [
    "data['total charge'] = data['total day charge'] + data['total eve charge'] + data['total night charge'] + data['total intl charge']"
   ]
  },
  {
   "cell_type": "code",
   "execution_count": 55,
   "metadata": {},
   "outputs": [],
   "source": [
    "data = data.drop(['total calls', 'total charge'],axis=1)"
   ]
  },
  {
   "cell_type": "code",
   "execution_count": 56,
   "metadata": {},
   "outputs": [
    {
     "output_type": "execute_result",
     "data": {
      "text/plain": "     state  account length  area code phone number international plan  \\\n0       KS             128        415     382-4657                 no   \n1       OH             107        415     371-7191                 no   \n2       NJ             137        415     358-1921                 no   \n3       OH              84        408     375-9999                yes   \n4       OK              75        415     330-6626                yes   \n...    ...             ...        ...          ...                ...   \n3328    AZ             192        415     414-4276                 no   \n3329    WV              68        415     370-3271                 no   \n3330    RI              28        510     328-8230                 no   \n3331    CT             184        510     364-6381                yes   \n3332    TN              74        415     400-4344                 no   \n\n     voice mail plan  number vmail messages  total day minutes  \\\n0                yes                     25              265.1   \n1                yes                     26              161.6   \n2                 no                      0              243.4   \n3                 no                      0              299.4   \n4                 no                      0              166.7   \n...              ...                    ...                ...   \n3328             yes                     36              156.2   \n3329              no                      0              231.1   \n3330              no                      0              180.8   \n3331              no                      0              213.8   \n3332             yes                     25              234.4   \n\n      total day calls  total day charge  total eve minutes  total eve calls  \\\n0                 110             45.07              197.4               99   \n1                 123             27.47              195.5              103   \n2                 114             41.38              121.2              110   \n3                  71             50.90               61.9               88   \n4                 113             28.34              148.3              122   \n...               ...               ...                ...              ...   \n3328               77             26.55              215.5              126   \n3329               57             39.29              153.4               55   \n3330              109             30.74              288.8               58   \n3331              105             36.35              159.6               84   \n3332              113             39.85              265.9               82   \n\n      total eve charge  total night minutes  total night calls  \\\n0                16.78                244.7                 91   \n1                16.62                254.4                103   \n2                10.30                162.6                104   \n3                 5.26                196.9                 89   \n4                12.61                186.9                121   \n...                ...                  ...                ...   \n3328             18.32                279.1                 83   \n3329             13.04                191.3                123   \n3330             24.55                191.9                 91   \n3331             13.57                139.2                137   \n3332             22.60                241.4                 77   \n\n      total night charge  total intl minutes  total intl calls  \\\n0                  11.01                10.0                 3   \n1                  11.45                13.7                 3   \n2                   7.32                12.2                 5   \n3                   8.86                 6.6                 7   \n4                   8.41                10.1                 3   \n...                  ...                 ...               ...   \n3328               12.56                 9.9                 6   \n3329                8.61                 9.6                 4   \n3330                8.64                14.1                 6   \n3331                6.26                 5.0                10   \n3332               10.86                13.7                 4   \n\n      total intl charge  customer service calls  churn  \n0                  2.70                       1      0  \n1                  3.70                       1      0  \n2                  3.29                       0      0  \n3                  1.78                       2      0  \n4                  2.73                       3      0  \n...                 ...                     ...    ...  \n3328               2.67                       2      0  \n3329               2.59                       3      0  \n3330               3.81                       2      0  \n3331               1.35                       2      0  \n3332               3.70                       0      0  \n\n[3333 rows x 21 columns]",
      "text/html": "<div>\n<style scoped>\n    .dataframe tbody tr th:only-of-type {\n        vertical-align: middle;\n    }\n\n    .dataframe tbody tr th {\n        vertical-align: top;\n    }\n\n    .dataframe thead th {\n        text-align: right;\n    }\n</style>\n<table border=\"1\" class=\"dataframe\">\n  <thead>\n    <tr style=\"text-align: right;\">\n      <th></th>\n      <th>state</th>\n      <th>account length</th>\n      <th>area code</th>\n      <th>phone number</th>\n      <th>international plan</th>\n      <th>voice mail plan</th>\n      <th>number vmail messages</th>\n      <th>total day minutes</th>\n      <th>total day calls</th>\n      <th>total day charge</th>\n      <th>total eve minutes</th>\n      <th>total eve calls</th>\n      <th>total eve charge</th>\n      <th>total night minutes</th>\n      <th>total night calls</th>\n      <th>total night charge</th>\n      <th>total intl minutes</th>\n      <th>total intl calls</th>\n      <th>total intl charge</th>\n      <th>customer service calls</th>\n      <th>churn</th>\n    </tr>\n  </thead>\n  <tbody>\n    <tr>\n      <th>0</th>\n      <td>KS</td>\n      <td>128</td>\n      <td>415</td>\n      <td>382-4657</td>\n      <td>no</td>\n      <td>yes</td>\n      <td>25</td>\n      <td>265.1</td>\n      <td>110</td>\n      <td>45.07</td>\n      <td>197.4</td>\n      <td>99</td>\n      <td>16.78</td>\n      <td>244.7</td>\n      <td>91</td>\n      <td>11.01</td>\n      <td>10.0</td>\n      <td>3</td>\n      <td>2.70</td>\n      <td>1</td>\n      <td>0</td>\n    </tr>\n    <tr>\n      <th>1</th>\n      <td>OH</td>\n      <td>107</td>\n      <td>415</td>\n      <td>371-7191</td>\n      <td>no</td>\n      <td>yes</td>\n      <td>26</td>\n      <td>161.6</td>\n      <td>123</td>\n      <td>27.47</td>\n      <td>195.5</td>\n      <td>103</td>\n      <td>16.62</td>\n      <td>254.4</td>\n      <td>103</td>\n      <td>11.45</td>\n      <td>13.7</td>\n      <td>3</td>\n      <td>3.70</td>\n      <td>1</td>\n      <td>0</td>\n    </tr>\n    <tr>\n      <th>2</th>\n      <td>NJ</td>\n      <td>137</td>\n      <td>415</td>\n      <td>358-1921</td>\n      <td>no</td>\n      <td>no</td>\n      <td>0</td>\n      <td>243.4</td>\n      <td>114</td>\n      <td>41.38</td>\n      <td>121.2</td>\n      <td>110</td>\n      <td>10.30</td>\n      <td>162.6</td>\n      <td>104</td>\n      <td>7.32</td>\n      <td>12.2</td>\n      <td>5</td>\n      <td>3.29</td>\n      <td>0</td>\n      <td>0</td>\n    </tr>\n    <tr>\n      <th>3</th>\n      <td>OH</td>\n      <td>84</td>\n      <td>408</td>\n      <td>375-9999</td>\n      <td>yes</td>\n      <td>no</td>\n      <td>0</td>\n      <td>299.4</td>\n      <td>71</td>\n      <td>50.90</td>\n      <td>61.9</td>\n      <td>88</td>\n      <td>5.26</td>\n      <td>196.9</td>\n      <td>89</td>\n      <td>8.86</td>\n      <td>6.6</td>\n      <td>7</td>\n      <td>1.78</td>\n      <td>2</td>\n      <td>0</td>\n    </tr>\n    <tr>\n      <th>4</th>\n      <td>OK</td>\n      <td>75</td>\n      <td>415</td>\n      <td>330-6626</td>\n      <td>yes</td>\n      <td>no</td>\n      <td>0</td>\n      <td>166.7</td>\n      <td>113</td>\n      <td>28.34</td>\n      <td>148.3</td>\n      <td>122</td>\n      <td>12.61</td>\n      <td>186.9</td>\n      <td>121</td>\n      <td>8.41</td>\n      <td>10.1</td>\n      <td>3</td>\n      <td>2.73</td>\n      <td>3</td>\n      <td>0</td>\n    </tr>\n    <tr>\n      <th>...</th>\n      <td>...</td>\n      <td>...</td>\n      <td>...</td>\n      <td>...</td>\n      <td>...</td>\n      <td>...</td>\n      <td>...</td>\n      <td>...</td>\n      <td>...</td>\n      <td>...</td>\n      <td>...</td>\n      <td>...</td>\n      <td>...</td>\n      <td>...</td>\n      <td>...</td>\n      <td>...</td>\n      <td>...</td>\n      <td>...</td>\n      <td>...</td>\n      <td>...</td>\n      <td>...</td>\n    </tr>\n    <tr>\n      <th>3328</th>\n      <td>AZ</td>\n      <td>192</td>\n      <td>415</td>\n      <td>414-4276</td>\n      <td>no</td>\n      <td>yes</td>\n      <td>36</td>\n      <td>156.2</td>\n      <td>77</td>\n      <td>26.55</td>\n      <td>215.5</td>\n      <td>126</td>\n      <td>18.32</td>\n      <td>279.1</td>\n      <td>83</td>\n      <td>12.56</td>\n      <td>9.9</td>\n      <td>6</td>\n      <td>2.67</td>\n      <td>2</td>\n      <td>0</td>\n    </tr>\n    <tr>\n      <th>3329</th>\n      <td>WV</td>\n      <td>68</td>\n      <td>415</td>\n      <td>370-3271</td>\n      <td>no</td>\n      <td>no</td>\n      <td>0</td>\n      <td>231.1</td>\n      <td>57</td>\n      <td>39.29</td>\n      <td>153.4</td>\n      <td>55</td>\n      <td>13.04</td>\n      <td>191.3</td>\n      <td>123</td>\n      <td>8.61</td>\n      <td>9.6</td>\n      <td>4</td>\n      <td>2.59</td>\n      <td>3</td>\n      <td>0</td>\n    </tr>\n    <tr>\n      <th>3330</th>\n      <td>RI</td>\n      <td>28</td>\n      <td>510</td>\n      <td>328-8230</td>\n      <td>no</td>\n      <td>no</td>\n      <td>0</td>\n      <td>180.8</td>\n      <td>109</td>\n      <td>30.74</td>\n      <td>288.8</td>\n      <td>58</td>\n      <td>24.55</td>\n      <td>191.9</td>\n      <td>91</td>\n      <td>8.64</td>\n      <td>14.1</td>\n      <td>6</td>\n      <td>3.81</td>\n      <td>2</td>\n      <td>0</td>\n    </tr>\n    <tr>\n      <th>3331</th>\n      <td>CT</td>\n      <td>184</td>\n      <td>510</td>\n      <td>364-6381</td>\n      <td>yes</td>\n      <td>no</td>\n      <td>0</td>\n      <td>213.8</td>\n      <td>105</td>\n      <td>36.35</td>\n      <td>159.6</td>\n      <td>84</td>\n      <td>13.57</td>\n      <td>139.2</td>\n      <td>137</td>\n      <td>6.26</td>\n      <td>5.0</td>\n      <td>10</td>\n      <td>1.35</td>\n      <td>2</td>\n      <td>0</td>\n    </tr>\n    <tr>\n      <th>3332</th>\n      <td>TN</td>\n      <td>74</td>\n      <td>415</td>\n      <td>400-4344</td>\n      <td>no</td>\n      <td>yes</td>\n      <td>25</td>\n      <td>234.4</td>\n      <td>113</td>\n      <td>39.85</td>\n      <td>265.9</td>\n      <td>82</td>\n      <td>22.60</td>\n      <td>241.4</td>\n      <td>77</td>\n      <td>10.86</td>\n      <td>13.7</td>\n      <td>4</td>\n      <td>3.70</td>\n      <td>0</td>\n      <td>0</td>\n    </tr>\n  </tbody>\n</table>\n<p>3333 rows × 21 columns</p>\n</div>"
     },
     "metadata": {},
     "execution_count": 56
    }
   ],
   "source": [
    "data"
   ]
  },
  {
   "cell_type": "code",
   "execution_count": 57,
   "metadata": {},
   "outputs": [
    {
     "output_type": "execute_result",
     "data": {
      "text/plain": "voice mail plan        no       yes       All\nchurn                                        \n0                0.602460  0.252625  0.855086\n1                0.120912  0.024002  0.144914\nAll              0.723372  0.276628  1.000000",
      "text/html": "<div>\n<style scoped>\n    .dataframe tbody tr th:only-of-type {\n        vertical-align: middle;\n    }\n\n    .dataframe tbody tr th {\n        vertical-align: top;\n    }\n\n    .dataframe thead th {\n        text-align: right;\n    }\n</style>\n<table border=\"1\" class=\"dataframe\">\n  <thead>\n    <tr style=\"text-align: right;\">\n      <th>voice mail plan</th>\n      <th>no</th>\n      <th>yes</th>\n      <th>All</th>\n    </tr>\n    <tr>\n      <th>churn</th>\n      <th></th>\n      <th></th>\n      <th></th>\n    </tr>\n  </thead>\n  <tbody>\n    <tr>\n      <th>0</th>\n      <td>0.602460</td>\n      <td>0.252625</td>\n      <td>0.855086</td>\n    </tr>\n    <tr>\n      <th>1</th>\n      <td>0.120912</td>\n      <td>0.024002</td>\n      <td>0.144914</td>\n    </tr>\n    <tr>\n      <th>All</th>\n      <td>0.723372</td>\n      <td>0.276628</td>\n      <td>1.000000</td>\n    </tr>\n  </tbody>\n</table>\n</div>"
     },
     "metadata": {},
     "execution_count": 57
    }
   ],
   "source": [
    "pd.crosstab(data['churn'], data['voice mail plan'], normalize=True, margins=True)"
   ]
  },
  {
   "cell_type": "code",
   "execution_count": null,
   "metadata": {},
   "outputs": [],
   "source": []
  }
 ]
}